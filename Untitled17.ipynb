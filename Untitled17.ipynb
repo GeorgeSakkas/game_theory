{
  "nbformat": 4,
  "nbformat_minor": 0,
  "metadata": {
    "colab": {
      "provenance": [],
      "authorship_tag": "ABX9TyOafVevdAWD3MXFNG7lU8F6",
      "include_colab_link": true
    },
    "kernelspec": {
      "name": "python3",
      "display_name": "Python 3"
    },
    "language_info": {
      "name": "python"
    }
  },
  "cells": [
    {
      "cell_type": "markdown",
      "metadata": {
        "id": "view-in-github",
        "colab_type": "text"
      },
      "source": [
        "<a href=\"https://colab.research.google.com/github/GeorgeSakkas/game_theory/blob/main/Untitled17.ipynb\" target=\"_parent\"><img src=\"https://colab.research.google.com/assets/colab-badge.svg\" alt=\"Open In Colab\"/></a>"
      ]
    },
    {
      "cell_type": "code",
      "source": [
        "!git clone https://github.com/GeorgeSakkas/game_theory.git"
      ],
      "metadata": {
        "colab": {
          "base_uri": "https://localhost:8080/"
        },
        "id": "zofe1r9jptmc",
        "outputId": "b84502a2-62fb-47ea-9bb6-6453f958e3d1"
      },
      "execution_count": null,
      "outputs": [
        {
          "output_type": "stream",
          "name": "stdout",
          "text": [
            "Cloning into 'game_theory'...\n",
            "remote: Enumerating objects: 24, done.\u001b[K\n",
            "remote: Counting objects: 100% (24/24), done.\u001b[K\n",
            "remote: Compressing objects: 100% (19/19), done.\u001b[K\n",
            "remote: Total 24 (delta 5), reused 19 (delta 3), pack-reused 0\u001b[K\n",
            "Receiving objects: 100% (24/24), 4.62 KiB | 4.62 MiB/s, done.\n",
            "Resolving deltas: 100% (5/5), done.\n"
          ]
        }
      ]
    },
    {
      "cell_type": "code",
      "source": [
        "import random\n",
        "import numpy as np\n",
        "\n",
        "class game_theory:\n",
        "\n",
        "    def __init__(self, payoff_matrix):\n",
        "        self.payoff_matrix = payoff_matrix\n",
        "\n",
        "    #Define all strategies in the competition\n",
        "    def strategies(self,player1_history,player2_history,strategy,count,rounds):\n",
        "        if strategy == 1:\n",
        "            if not player1_history or not player2_history:\n",
        "                return 'C'\n",
        "            else:\n",
        "                return player2_history[-1]\n",
        "        elif strategy == 2:\n",
        "            return 'D'\n",
        "        elif strategy == 3:\n",
        "            if count <= rounds/2:\n",
        "                return 'C'\n",
        "            else:\n",
        "                return 'D'\n",
        "        elif strategy == 4:\n",
        "            return 'C'\n",
        "        elif strategy == 5:\n",
        "            return np.random.choice(['D','C'])\n",
        "        elif strategy == 6:\n",
        "            return np.random.choice(['C','D'], p=[0.7,0.3])\n",
        "        elif strategy == 7:\n",
        "            if count <= 2*rounds/3:\n",
        "                return 'C'\n",
        "            else:\n",
        "                return 'D'\n",
        "        elif strategy == 8:\n",
        "            return 'C'\n",
        "        elif strategy == 9:\n",
        "            if count <= 3*rounds/4:\n",
        "                return 'C'\n",
        "            else:\n",
        "                return 'D'\n",
        "        elif strategy == 10:\n",
        "            if not player1_history or not player2_history:\n",
        "                return 'C'\n",
        "            else:\n",
        "                return player2_history[-1]\n",
        "        elif strategy == 11:\n",
        "            if not player1_history or not player2_history:\n",
        "                return 'C'\n",
        "            else:\n",
        "                return player2_history[-1]\n",
        "        elif strategy == 12:\n",
        "            if not player1_history or not player2_history:\n",
        "                return 'C'\n",
        "            else:\n",
        "                return player2_history[-1]\n",
        "        elif strategy == 13:\n",
        "            if not player1_history or not player2_history:\n",
        "                return 'C'\n",
        "            else:\n",
        "                return player2_history[-1]\n",
        "        elif strategy == 14:\n",
        "            if not player1_history or not player2_history:\n",
        "                return 'C'\n",
        "            else:\n",
        "                return player2_history[-1]\n",
        "        elif strategy == 15:\n",
        "            if not player1_history or not player2_history:\n",
        "                return 'C'\n",
        "            else:\n",
        "                return player2_history[-1]\n",
        "    #Play a round and return the payoff for each player\n",
        "    def play_round(self, player1_action, player2_action):\n",
        "        return self.payoff_matrix[(player1_action,player2_action)]\n",
        "\n",
        "\n",
        "    #Play the simulation\n",
        "    def play_game(self, rounds):\n",
        "        size = 15  #input the number of strategies\n",
        "        total_payoff_1_list = [[0] * size for _ in range(size)]\n",
        "        total_payoff_2_list= [[0] * size for _ in range(size)]\n",
        "\n",
        "        for j in range(size):\n",
        "            for i in range(size):\n",
        "                strategy_1=j+1\n",
        "                strategy_2=i+1\n",
        "\n",
        "                player1_history=[]\n",
        "                player2_history=[]\n",
        "                total_payoff_1=0\n",
        "                total_payoff_2=0\n",
        "                count=0\n",
        "\n",
        "                for _ in range(rounds):\n",
        "\n",
        "                    player1_action=self.strategies(player1_history,player2_history,strategy_1,count,rounds)\n",
        "                    player2_action=self.strategies(player2_history,player1_history,strategy_2,count,rounds)\n",
        "\n",
        "                    payoff_1, payoff_2 = self.play_round(player1_action,player2_action)\n",
        "\n",
        "                    player1_history.append(player1_action)\n",
        "                    player2_history.append(player2_action)\n",
        "\n",
        "                    total_payoff_1+=payoff_1\n",
        "                    total_payoff_2+=payoff_2\n",
        "                    count+=1\n",
        "\n",
        "                    total_payoff_1_list[strategy_1-1][strategy_2-1]=total_payoff_1\n",
        "                    total_payoff_2_list[strategy_1-1][strategy_2-1]=total_payoff_2\n",
        "\n",
        "\n",
        "\n",
        "        return(total_payoff_1_list,total_payoff_2_list)\n",
        "\n",
        "\n",
        "\n",
        "#Define payoff_matrix for prisoner's dillema\n",
        "payoff_matrix = {\n",
        "    ('C','C'):(3,3),\n",
        "    ('C','D'):(0,5),\n",
        "    ('D','C'):(5,0),\n",
        "    ('D','D'):(1,1)\n",
        "}\n",
        "\n",
        "#Create an instance of the class\n",
        "prisoners_dillema=game_theory(payoff_matrix)\n",
        "\n",
        "#Get results of the simulation\n",
        "rounds=200\n",
        "print(prisoners_dillema.play_game(rounds))\n",
        "\n",
        "#Get results for the first player\n",
        "scores_of_player1=prisoners_dillema.play_game(rounds)[0]\n",
        "print(scores_of_player1)\n",
        "\n",
        "#Get results for the second player\n",
        "scores_of_player2=prisoners_dillema.play_game(rounds)[1]\n",
        "print(scores_of_player2)\n",
        "\n",
        "#Consistency check, if we take the transpose of the total payoff matrix of the second player it should match the first.\n",
        "print(prisoners_dillema.play_game(rounds)[0][0][2])\n",
        "print(prisoners_dillema.play_game(rounds)[1][2][0])\n",
        "\n",
        "#Get best strategy\n",
        "best_strategies=[]\n",
        "for i in range(15):\n",
        "    best_strategies.append(sum(scores_of_player1[i])/15)\n",
        "\n",
        "#print best strategies\n",
        "print(best_strategies)"
      ],
      "metadata": {
        "id": "3vX36jSlp-wJ",
        "colab": {
          "base_uri": "https://localhost:8080/"
        },
        "outputId": "ac0ed189-d894-4fb6-ebdc-4a66743ebb9a"
      },
      "execution_count": 10,
      "outputs": [
        {
          "output_type": "stream",
          "name": "stdout",
          "text": [
            "([[600, 199, 401, 600, 393, 517, 467, 600, 501, 600, 600, 600, 600, 600, 600], [204, 200, 604, 1000, 596, 736, 736, 1000, 804, 204, 204, 204, 204, 204, 204], [406, 99, 402, 798, 448, 587, 534, 798, 602, 406, 406, 406, 406, 406, 406], [600, 0, 303, 600, 309, 432, 402, 600, 453, 600, 600, 600, 600, 600, 600], [465, 95, 459, 806, 430, 564, 574, 798, 618, 434, 453, 457, 459, 429, 443], [487, 48, 385, 704, 389, 503, 509, 742, 577, 510, 527, 522, 534, 520, 506], [472, 66, 369, 732, 374, 555, 468, 732, 536, 472, 472, 472, 472, 472, 472], [600, 0, 303, 600, 327, 420, 402, 600, 453, 600, 600, 600, 600, 600, 600], [506, 49, 352, 698, 364, 468, 451, 698, 502, 506, 506, 506, 506, 506, 506], [600, 199, 401, 600, 440, 512, 467, 600, 501, 600, 600, 600, 600, 600, 600], [600, 199, 401, 600, 429, 518, 467, 600, 501, 600, 600, 600, 600, 600, 600], [600, 199, 401, 600, 476, 523, 467, 600, 501, 600, 600, 600, 600, 600, 600], [600, 199, 401, 600, 472, 524, 467, 600, 501, 600, 600, 600, 600, 600, 600], [600, 199, 401, 600, 439, 527, 467, 600, 501, 600, 600, 600, 600, 600, 600], [600, 199, 401, 600, 443, 533, 467, 600, 501, 600, 600, 600, 600, 600, 600]], [[600, 204, 406, 600, 393, 522, 472, 600, 506, 600, 600, 600, 600, 600, 600], [199, 200, 99, 0, 101, 66, 66, 0, 49, 199, 199, 199, 199, 199, 199], [401, 604, 402, 303, 463, 397, 369, 303, 352, 401, 401, 401, 401, 401, 401], [600, 1000, 798, 600, 794, 712, 732, 600, 698, 600, 600, 600, 600, 600, 600], [460, 620, 424, 291, 460, 389, 389, 303, 393, 434, 453, 452, 454, 429, 443], [487, 808, 595, 444, 599, 528, 524, 387, 472, 510, 522, 522, 534, 515, 506], [467, 736, 534, 402, 574, 495, 468, 402, 451, 467, 467, 467, 467, 467, 467], [600, 1000, 798, 600, 782, 720, 732, 600, 698, 600, 600, 600, 600, 600, 600], [501, 804, 602, 453, 634, 573, 536, 453, 502, 501, 501, 501, 501, 501, 501], [600, 204, 406, 600, 445, 517, 472, 600, 506, 600, 600, 600, 600, 600, 600], [600, 204, 406, 600, 434, 523, 472, 600, 506, 600, 600, 600, 600, 600, 600], [600, 204, 406, 600, 476, 523, 472, 600, 506, 600, 600, 600, 600, 600, 600], [600, 204, 406, 600, 472, 524, 472, 600, 506, 600, 600, 600, 600, 600, 600], [600, 204, 406, 600, 439, 527, 472, 600, 506, 600, 600, 600, 600, 600, 600], [600, 204, 406, 600, 443, 538, 472, 600, 506, 600, 600, 600, 600, 600, 600]])\n",
            "[[600, 199, 401, 600, 446, 520, 467, 600, 501, 600, 600, 600, 600, 600, 600], [204, 200, 604, 1000, 588, 780, 736, 1000, 804, 204, 204, 204, 204, 204, 204], [406, 99, 402, 798, 434, 584, 534, 798, 602, 406, 406, 406, 406, 406, 406], [600, 0, 303, 600, 279, 396, 402, 600, 453, 600, 600, 600, 600, 600, 600], [458, 110, 450, 786, 428, 581, 593, 796, 611, 454, 462, 439, 445, 437, 461], [517, 57, 366, 728, 381, 539, 515, 706, 552, 521, 535, 521, 533, 528, 524], [472, 66, 369, 732, 379, 525, 468, 732, 536, 472, 472, 472, 472, 472, 472], [600, 0, 303, 600, 321, 405, 402, 600, 453, 600, 600, 600, 600, 600, 600], [506, 49, 352, 698, 355, 516, 451, 698, 502, 506, 506, 506, 506, 506, 506], [600, 199, 401, 600, 467, 519, 467, 600, 501, 600, 600, 600, 600, 600, 600], [600, 199, 401, 600, 428, 498, 467, 600, 501, 600, 600, 600, 600, 600, 600], [600, 199, 401, 600, 454, 533, 467, 600, 501, 600, 600, 600, 600, 600, 600], [600, 199, 401, 600, 466, 522, 467, 600, 501, 600, 600, 600, 600, 600, 600], [600, 199, 401, 600, 424, 503, 467, 600, 501, 600, 600, 600, 600, 600, 600], [600, 199, 401, 600, 482, 539, 467, 600, 501, 600, 600, 600, 600, 600, 600]]\n",
            "[[600, 204, 406, 600, 462, 519, 472, 600, 506, 600, 600, 600, 600, 600, 600], [199, 200, 99, 0, 90, 60, 66, 0, 49, 199, 199, 199, 199, 199, 199], [401, 604, 402, 303, 447, 393, 369, 303, 352, 401, 401, 401, 401, 401, 401], [600, 1000, 798, 600, 790, 730, 732, 600, 698, 600, 600, 600, 600, 600, 600], [459, 580, 450, 321, 428, 368, 398, 291, 358, 444, 468, 427, 470, 443, 453], [530, 728, 565, 432, 600, 536, 549, 417, 494, 528, 529, 532, 510, 528, 525], [467, 736, 534, 402, 563, 489, 468, 402, 451, 467, 467, 467, 467, 467, 467], [600, 1000, 798, 600, 800, 724, 732, 600, 698, 600, 600, 600, 600, 600, 600], [501, 804, 602, 453, 629, 561, 536, 453, 502, 501, 501, 501, 501, 501, 501], [600, 204, 406, 600, 455, 541, 472, 600, 506, 600, 600, 600, 600, 600, 600], [600, 204, 406, 600, 439, 522, 472, 600, 506, 600, 600, 600, 600, 600, 600], [600, 204, 406, 600, 453, 502, 472, 600, 506, 600, 600, 600, 600, 600, 600], [600, 204, 406, 600, 488, 513, 472, 600, 506, 600, 600, 600, 600, 600, 600], [600, 204, 406, 600, 476, 527, 472, 600, 506, 600, 600, 600, 600, 600, 600], [600, 204, 406, 600, 456, 540, 472, 600, 506, 600, 600, 600, 600, 600, 600]]\n",
            "401\n",
            "401\n",
            "[528.9333333333333, 476.0, 472.8666666666667, 482.2, 500.73333333333335, 501.53333333333336, 474.06666666666666, 485.6, 477.53333333333336, 530.2666666666667, 526.2666666666667, 530.3333333333334, 530.4, 526.3333333333334, 532.6]\n"
          ]
        },
        {
          "output_type": "execute_result",
          "data": {
            "text/plain": [
              "3"
            ]
          },
          "metadata": {},
          "execution_count": 10
        }
      ]
    }
  ]
}